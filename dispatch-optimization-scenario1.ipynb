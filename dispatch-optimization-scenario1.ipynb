{
 "cells": [
  {
   "cell_type": "code",
   "execution_count": 1,
   "metadata": {
    "ExecuteTime": {
     "end_time": "2021-11-26T07:33:14.543751Z",
     "start_time": "2021-11-26T07:33:14.539989Z"
    }
   },
   "outputs": [],
   "source": [
    "import pyomo.environ as pyomo\n",
    "import pandas as pd"
   ]
  },
  {
   "cell_type": "code",
   "execution_count": 2,
   "metadata": {
    "ExecuteTime": {
     "end_time": "2021-11-26T05:34:42.200901Z",
     "start_time": "2021-11-26T05:34:42.195703Z"
    }
   },
   "outputs": [],
   "source": [
    "m = pyomo.ConcreteModel()"
   ]
  },
  {
   "cell_type": "code",
   "execution_count": 3,
   "metadata": {
    "ExecuteTime": {
     "end_time": "2021-11-26T05:34:42.225187Z",
     "start_time": "2021-11-26T05:34:42.205480Z"
    }
   },
   "outputs": [],
   "source": [
    "load=pd.read_csv('scenario1-demand.csv')\n",
    "solar=pd.read_csv('solar.csv')"
   ]
  },
  {
   "cell_type": "code",
   "execution_count": 4,
   "metadata": {
    "ExecuteTime": {
     "end_time": "2021-11-26T05:34:42.238009Z",
     "start_time": "2021-11-26T05:34:42.230154Z"
    }
   },
   "outputs": [],
   "source": [
    "T = 24\n",
    "price_grid = 5\n",
    "price_renew=2\n",
    "deg_cost=10\n",
    "soemax=40\n",
    "soemin=0\n",
    "pchmax=10\n",
    "pchmin=0"
   ]
  },
  {
   "cell_type": "code",
   "execution_count": 5,
   "metadata": {
    "ExecuteTime": {
     "end_time": "2021-11-26T05:34:42.247129Z",
     "start_time": "2021-11-26T05:34:42.241558Z"
    }
   },
   "outputs": [],
   "source": [
    "S = solar['RealPower'].values\n",
    "L = load['RealPower'].values"
   ]
  },
  {
   "cell_type": "code",
   "execution_count": 6,
   "metadata": {
    "ExecuteTime": {
     "end_time": "2021-11-26T05:34:42.258494Z",
     "start_time": "2021-11-26T05:34:42.254154Z"
    }
   },
   "outputs": [],
   "source": [
    "times = range(T)\n",
    "tplus = range(T+1)"
   ]
  },
  {
   "cell_type": "code",
   "execution_count": 7,
   "metadata": {
    "ExecuteTime": {
     "end_time": "2021-11-26T05:34:42.275223Z",
     "start_time": "2021-11-26T05:34:42.262502Z"
    }
   },
   "outputs": [],
   "source": [
    "m.Pgrid = pyomo.Var(times, domain=pyomo.NonNegativeReals)\n",
    "m.Pexport = pyomo.Var(times, domain=pyomo.NonNegativeReals)\n",
    "m.soe=pyomo.Var(tplus, domain=pyomo.NonNegativeReals)\n",
    "m.pch=pyomo.Var(times, domain=pyomo.Reals)\n",
    "m.pdch=pyomo.Var(times, domain=pyomo.Reals)\n",
    "m.deg=pyomo.Var(times, domain=pyomo.NonNegativeReals)"
   ]
  },
  {
   "cell_type": "code",
   "execution_count": 8,
   "metadata": {
    "ExecuteTime": {
     "end_time": "2021-11-26T05:34:42.289971Z",
     "start_time": "2021-11-26T05:34:42.281380Z"
    }
   },
   "outputs": [],
   "source": [
    "# objective\n",
    "cost = sum(price_grid*m.Pgrid[t]\n",
    "            - m.Pexport[t]*price_renew\n",
    "            - price_grid*m.pdch[t]\n",
    "            + price_grid*m.pch[t] \n",
    "            + deg_cost*m.deg[t] for t in times)"
   ]
  },
  {
   "cell_type": "code",
   "execution_count": 9,
   "metadata": {
    "ExecuteTime": {
     "end_time": "2021-11-26T05:34:42.313878Z",
     "start_time": "2021-11-26T05:34:42.295424Z"
    }
   },
   "outputs": [
    {
     "data": {
      "text/plain": [
       "<pyomo.core.expr.numeric_expr.SumExpression at 0x1beb1a2e080>"
      ]
     },
     "execution_count": 9,
     "metadata": {},
     "output_type": "execute_result"
    }
   ],
   "source": [
    "cost"
   ]
  },
  {
   "cell_type": "code",
   "execution_count": 10,
   "metadata": {
    "ExecuteTime": {
     "end_time": "2021-11-26T05:34:42.324476Z",
     "start_time": "2021-11-26T05:34:42.318837Z"
    }
   },
   "outputs": [],
   "source": [
    "m.cost = pyomo.Objective(expr = cost, sense=pyomo.minimize)"
   ]
  },
  {
   "cell_type": "code",
   "execution_count": 11,
   "metadata": {
    "ExecuteTime": {
     "end_time": "2021-11-26T05:34:42.333901Z",
     "start_time": "2021-11-26T05:34:42.328797Z"
    }
   },
   "outputs": [],
   "source": [
    "# constraints\n",
    "m.cons = pyomo.ConstraintList()"
   ]
  },
  {
   "cell_type": "code",
   "execution_count": 12,
   "metadata": {
    "ExecuteTime": {
     "end_time": "2021-11-26T05:34:42.372223Z",
     "start_time": "2021-11-26T05:34:42.338503Z"
    }
   },
   "outputs": [
    {
     "data": {
      "text/plain": [
       "<pyomo.core.base.constraint._GeneralConstraintData at 0x1beb1ab3ac0>"
      ]
     },
     "execution_count": 12,
     "metadata": {},
     "output_type": "execute_result"
    }
   ],
   "source": [
    "for t in times:\n",
    "    m.cons.add(m.pch[t]<=pchmax)\n",
    "    m.cons.add(0<=m.pch[t])\n",
    "    m.cons.add(m.pdch[t]<=pchmax)\n",
    "    m.cons.add(0<=m.pdch[t])\n",
    "    m.cons.add(m.soe[t]<=soemax)\n",
    "    m.cons.add(0<=m.soe[t])\n",
    "    m.cons.add(L[t] + m.Pexport[t] + m.pch[t] == m.Pgrid[t]+S[t]+m.pdch[t]+m.deg[t])\n",
    "#     m.cons.add(m.Pgrid[t]*m.Pexport[t]==0)\n",
    "#     m.cons.add(m.pch[t]*m.pdch[t]==0)\n",
    "    m.cons.add(m.Pexport[t]>=0)\n",
    "    m.cons.add(m.Pgrid[t]>=0)\n",
    "    m.cons.add(m.soe[t+1] == m.soe[t] + m.pch[t] - m.pdch[t])\n",
    "\n",
    "m.cons.add(m.soe[0] == 10)\n",
    "m.cons.add(m.Pgrid[10]==0)\n",
    "m.cons.add(m.Pgrid[11]==0)\n",
    "m.cons.add(m.Pgrid[12]==0)\n"
   ]
  },
  {
   "cell_type": "code",
   "execution_count": 13,
   "metadata": {
    "ExecuteTime": {
     "end_time": "2021-11-26T05:34:42.390539Z",
     "start_time": "2021-11-26T05:34:42.375698Z"
    }
   },
   "outputs": [
    {
     "name": "stdout",
     "output_type": "stream",
     "text": [
      "**************\n",
      "gridprice 5\n",
      "***************\n",
      "renewable price 2\n",
      "***************\n",
      "solar generation [ 0.     0.     0.     0.     0.     0.     0.     0.106  7.924 19.317\n",
      " 29.399 44.717 47.049 47.029 44.719 37.46  20.366  8.34   0.266  0.\n",
      "  0.     0.     0.     0.   ]\n",
      "**************\n",
      "load [ 61.077  64.231  64.612  67.146  66.027  71.29   88.297 100.229  99.979\n",
      " 101.697 105.989 118.934 124.29  121.083 129.931 119.354 124.034 125.466\n",
      " 126.02  125.546 132.675 126.564 126.309 122.349]\n",
      "***************\n"
     ]
    }
   ],
   "source": [
    "print(\"**************\")\n",
    "print(\"gridprice\",price_grid)\n",
    "print(\"***************\")\n",
    "print(\"renewable price\",price_renew)\n",
    "print(\"***************\")\n",
    "print(\"solar generation\",S)\n",
    "print(\"**************\")\n",
    "print(\"load\",L)\n",
    "print(\"***************\")\n"
   ]
  },
  {
   "cell_type": "code",
   "execution_count": 14,
   "metadata": {
    "ExecuteTime": {
     "end_time": "2021-11-26T05:34:42.480775Z",
     "start_time": "2021-11-26T05:34:42.394204Z"
    }
   },
   "outputs": [
    {
     "data": {
      "text/plain": [
       "{'Problem': [{'Name': 'unknown', 'Lower bound': 11757.425000000001, 'Upper bound': 11757.425000000001, 'Number of objectives': 1, 'Number of constraints': 268, 'Number of variables': 145, 'Number of binary variables': 0, 'Number of integer variables': 0, 'Number of continuous variables': 145, 'Number of nonzeros': 412, 'Sense': 1, 'Number of solutions': 3}], 'Solver': [{'Name': 'Gurobi 9.50', 'Status': 'ok', 'Wallclock time': 0.3730945587158203, 'Termination condition': 'optimal', 'Termination message': 'Model was solved to optimality (subject to tolerances), and an optimal solution is available.'}], 'Solution': [OrderedDict([('number of solutions', 0), ('number of solutions displayed', 0)])]}"
      ]
     },
     "execution_count": 14,
     "metadata": {},
     "output_type": "execute_result"
    }
   ],
   "source": [
    "solver = pyomo.SolverFactory(\"gurobi\", solver_io=\"python\")\n",
    "solver.options[\"NonConvex\"] = 2\n",
    "solver.solve(m)"
   ]
  },
  {
   "cell_type": "markdown",
   "metadata": {
    "ExecuteTime": {
     "end_time": "2021-11-26T07:26:41.851993Z",
     "start_time": "2021-11-26T07:26:41.762970Z"
    },
    "scrolled": false
   },
   "source": [
    "for c in m.cons:\n",
    "    print(m.cons[c].lslack(), m.cons[c].uslack())"
   ]
  },
  {
   "cell_type": "markdown",
   "metadata": {
    "ExecuteTime": {
     "end_time": "2021-11-26T07:22:17.258497Z",
     "start_time": "2021-11-26T07:22:17.165405Z"
    },
    "scrolled": false
   },
   "source": [
    "m.display()"
   ]
  },
  {
   "cell_type": "code",
   "execution_count": 15,
   "metadata": {
    "ExecuteTime": {
     "end_time": "2021-11-26T07:40:46.061878Z",
     "start_time": "2021-11-26T07:40:45.922252Z"
    },
    "scrolled": false
   },
   "outputs": [
    {
     "name": "stdout",
     "output_type": "stream",
     "text": [
      "Total cost = 11757.425000000001 .\n",
      "time   pgrid   pexport     SOE      CHARGE     DISCH    LOAD        pv        Deg\n"
     ]
    },
    {
     "data": {
      "text/html": [
       "<div>\n",
       "<style scoped>\n",
       "    .dataframe tbody tr th:only-of-type {\n",
       "        vertical-align: middle;\n",
       "    }\n",
       "\n",
       "    .dataframe tbody tr th {\n",
       "        vertical-align: top;\n",
       "    }\n",
       "\n",
       "    .dataframe thead th {\n",
       "        text-align: right;\n",
       "    }\n",
       "</style>\n",
       "<table border=\"1\" class=\"dataframe\">\n",
       "  <thead>\n",
       "    <tr style=\"text-align: right;\">\n",
       "      <th></th>\n",
       "      <th>TIME</th>\n",
       "      <th>LOAD</th>\n",
       "      <th>PGRID</th>\n",
       "      <th>PEXPORT</th>\n",
       "      <th>CHARGE</th>\n",
       "      <th>DISCH</th>\n",
       "      <th>PV</th>\n",
       "      <th>DEG</th>\n",
       "      <th>SOE</th>\n",
       "    </tr>\n",
       "  </thead>\n",
       "  <tbody>\n",
       "    <tr>\n",
       "      <th>0</th>\n",
       "      <td>0.0</td>\n",
       "      <td>61.077</td>\n",
       "      <td>51.077</td>\n",
       "      <td>0.0</td>\n",
       "      <td>0.0</td>\n",
       "      <td>10.0</td>\n",
       "      <td>0.000</td>\n",
       "      <td>0.000000e+00</td>\n",
       "      <td>10.0</td>\n",
       "    </tr>\n",
       "    <tr>\n",
       "      <th>1</th>\n",
       "      <td>1.0</td>\n",
       "      <td>64.231</td>\n",
       "      <td>74.231</td>\n",
       "      <td>0.0</td>\n",
       "      <td>10.0</td>\n",
       "      <td>0.0</td>\n",
       "      <td>0.000</td>\n",
       "      <td>0.000000e+00</td>\n",
       "      <td>0.0</td>\n",
       "    </tr>\n",
       "    <tr>\n",
       "      <th>2</th>\n",
       "      <td>2.0</td>\n",
       "      <td>64.612</td>\n",
       "      <td>74.612</td>\n",
       "      <td>0.0</td>\n",
       "      <td>10.0</td>\n",
       "      <td>0.0</td>\n",
       "      <td>0.000</td>\n",
       "      <td>0.000000e+00</td>\n",
       "      <td>10.0</td>\n",
       "    </tr>\n",
       "    <tr>\n",
       "      <th>3</th>\n",
       "      <td>3.0</td>\n",
       "      <td>67.146</td>\n",
       "      <td>57.146</td>\n",
       "      <td>0.0</td>\n",
       "      <td>0.0</td>\n",
       "      <td>10.0</td>\n",
       "      <td>0.000</td>\n",
       "      <td>0.000000e+00</td>\n",
       "      <td>20.0</td>\n",
       "    </tr>\n",
       "    <tr>\n",
       "      <th>4</th>\n",
       "      <td>4.0</td>\n",
       "      <td>66.027</td>\n",
       "      <td>76.027</td>\n",
       "      <td>0.0</td>\n",
       "      <td>10.0</td>\n",
       "      <td>0.0</td>\n",
       "      <td>0.000</td>\n",
       "      <td>0.000000e+00</td>\n",
       "      <td>10.0</td>\n",
       "    </tr>\n",
       "    <tr>\n",
       "      <th>5</th>\n",
       "      <td>5.0</td>\n",
       "      <td>71.290</td>\n",
       "      <td>81.290</td>\n",
       "      <td>0.0</td>\n",
       "      <td>10.0</td>\n",
       "      <td>0.0</td>\n",
       "      <td>0.000</td>\n",
       "      <td>0.000000e+00</td>\n",
       "      <td>20.0</td>\n",
       "    </tr>\n",
       "    <tr>\n",
       "      <th>6</th>\n",
       "      <td>6.0</td>\n",
       "      <td>88.297</td>\n",
       "      <td>98.297</td>\n",
       "      <td>0.0</td>\n",
       "      <td>10.0</td>\n",
       "      <td>0.0</td>\n",
       "      <td>0.000</td>\n",
       "      <td>0.000000e+00</td>\n",
       "      <td>30.0</td>\n",
       "    </tr>\n",
       "    <tr>\n",
       "      <th>7</th>\n",
       "      <td>7.0</td>\n",
       "      <td>100.229</td>\n",
       "      <td>90.123</td>\n",
       "      <td>0.0</td>\n",
       "      <td>0.0</td>\n",
       "      <td>10.0</td>\n",
       "      <td>0.106</td>\n",
       "      <td>0.000000e+00</td>\n",
       "      <td>40.0</td>\n",
       "    </tr>\n",
       "    <tr>\n",
       "      <th>8</th>\n",
       "      <td>8.0</td>\n",
       "      <td>99.979</td>\n",
       "      <td>102.055</td>\n",
       "      <td>0.0</td>\n",
       "      <td>10.0</td>\n",
       "      <td>0.0</td>\n",
       "      <td>7.924</td>\n",
       "      <td>0.000000e+00</td>\n",
       "      <td>30.0</td>\n",
       "    </tr>\n",
       "    <tr>\n",
       "      <th>9</th>\n",
       "      <td>9.0</td>\n",
       "      <td>101.697</td>\n",
       "      <td>72.380</td>\n",
       "      <td>0.0</td>\n",
       "      <td>0.0</td>\n",
       "      <td>10.0</td>\n",
       "      <td>19.317</td>\n",
       "      <td>0.000000e+00</td>\n",
       "      <td>40.0</td>\n",
       "    </tr>\n",
       "    <tr>\n",
       "      <th>10</th>\n",
       "      <td>10.0</td>\n",
       "      <td>105.989</td>\n",
       "      <td>0.000</td>\n",
       "      <td>0.0</td>\n",
       "      <td>0.0</td>\n",
       "      <td>10.0</td>\n",
       "      <td>29.399</td>\n",
       "      <td>6.659000e+01</td>\n",
       "      <td>30.0</td>\n",
       "    </tr>\n",
       "    <tr>\n",
       "      <th>11</th>\n",
       "      <td>11.0</td>\n",
       "      <td>118.934</td>\n",
       "      <td>0.000</td>\n",
       "      <td>0.0</td>\n",
       "      <td>0.0</td>\n",
       "      <td>10.0</td>\n",
       "      <td>44.717</td>\n",
       "      <td>6.421700e+01</td>\n",
       "      <td>20.0</td>\n",
       "    </tr>\n",
       "    <tr>\n",
       "      <th>12</th>\n",
       "      <td>12.0</td>\n",
       "      <td>124.290</td>\n",
       "      <td>0.000</td>\n",
       "      <td>0.0</td>\n",
       "      <td>0.0</td>\n",
       "      <td>10.0</td>\n",
       "      <td>47.049</td>\n",
       "      <td>6.724100e+01</td>\n",
       "      <td>10.0</td>\n",
       "    </tr>\n",
       "    <tr>\n",
       "      <th>13</th>\n",
       "      <td>13.0</td>\n",
       "      <td>121.083</td>\n",
       "      <td>84.054</td>\n",
       "      <td>0.0</td>\n",
       "      <td>10.0</td>\n",
       "      <td>0.0</td>\n",
       "      <td>47.029</td>\n",
       "      <td>0.000000e+00</td>\n",
       "      <td>0.0</td>\n",
       "    </tr>\n",
       "    <tr>\n",
       "      <th>14</th>\n",
       "      <td>14.0</td>\n",
       "      <td>129.931</td>\n",
       "      <td>75.212</td>\n",
       "      <td>0.0</td>\n",
       "      <td>0.0</td>\n",
       "      <td>10.0</td>\n",
       "      <td>44.719</td>\n",
       "      <td>0.000000e+00</td>\n",
       "      <td>10.0</td>\n",
       "    </tr>\n",
       "    <tr>\n",
       "      <th>15</th>\n",
       "      <td>15.0</td>\n",
       "      <td>119.354</td>\n",
       "      <td>91.894</td>\n",
       "      <td>0.0</td>\n",
       "      <td>10.0</td>\n",
       "      <td>0.0</td>\n",
       "      <td>37.460</td>\n",
       "      <td>0.000000e+00</td>\n",
       "      <td>0.0</td>\n",
       "    </tr>\n",
       "    <tr>\n",
       "      <th>16</th>\n",
       "      <td>16.0</td>\n",
       "      <td>124.034</td>\n",
       "      <td>113.668</td>\n",
       "      <td>0.0</td>\n",
       "      <td>10.0</td>\n",
       "      <td>0.0</td>\n",
       "      <td>20.366</td>\n",
       "      <td>0.000000e+00</td>\n",
       "      <td>10.0</td>\n",
       "    </tr>\n",
       "    <tr>\n",
       "      <th>17</th>\n",
       "      <td>17.0</td>\n",
       "      <td>125.466</td>\n",
       "      <td>107.126</td>\n",
       "      <td>0.0</td>\n",
       "      <td>0.0</td>\n",
       "      <td>10.0</td>\n",
       "      <td>8.340</td>\n",
       "      <td>0.000000e+00</td>\n",
       "      <td>20.0</td>\n",
       "    </tr>\n",
       "    <tr>\n",
       "      <th>18</th>\n",
       "      <td>18.0</td>\n",
       "      <td>126.020</td>\n",
       "      <td>115.754</td>\n",
       "      <td>0.0</td>\n",
       "      <td>0.0</td>\n",
       "      <td>10.0</td>\n",
       "      <td>0.266</td>\n",
       "      <td>0.000000e+00</td>\n",
       "      <td>10.0</td>\n",
       "    </tr>\n",
       "    <tr>\n",
       "      <th>19</th>\n",
       "      <td>19.0</td>\n",
       "      <td>125.546</td>\n",
       "      <td>135.546</td>\n",
       "      <td>0.0</td>\n",
       "      <td>10.0</td>\n",
       "      <td>0.0</td>\n",
       "      <td>0.000</td>\n",
       "      <td>1.421085e-14</td>\n",
       "      <td>0.0</td>\n",
       "    </tr>\n",
       "    <tr>\n",
       "      <th>20</th>\n",
       "      <td>20.0</td>\n",
       "      <td>132.675</td>\n",
       "      <td>122.675</td>\n",
       "      <td>0.0</td>\n",
       "      <td>0.0</td>\n",
       "      <td>10.0</td>\n",
       "      <td>0.000</td>\n",
       "      <td>0.000000e+00</td>\n",
       "      <td>10.0</td>\n",
       "    </tr>\n",
       "    <tr>\n",
       "      <th>21</th>\n",
       "      <td>21.0</td>\n",
       "      <td>126.564</td>\n",
       "      <td>136.564</td>\n",
       "      <td>0.0</td>\n",
       "      <td>10.0</td>\n",
       "      <td>0.0</td>\n",
       "      <td>0.000</td>\n",
       "      <td>0.000000e+00</td>\n",
       "      <td>0.0</td>\n",
       "    </tr>\n",
       "    <tr>\n",
       "      <th>22</th>\n",
       "      <td>22.0</td>\n",
       "      <td>126.309</td>\n",
       "      <td>116.309</td>\n",
       "      <td>0.0</td>\n",
       "      <td>0.0</td>\n",
       "      <td>10.0</td>\n",
       "      <td>0.000</td>\n",
       "      <td>0.000000e+00</td>\n",
       "      <td>10.0</td>\n",
       "    </tr>\n",
       "    <tr>\n",
       "      <th>23</th>\n",
       "      <td>23.0</td>\n",
       "      <td>122.349</td>\n",
       "      <td>122.349</td>\n",
       "      <td>0.0</td>\n",
       "      <td>0.0</td>\n",
       "      <td>0.0</td>\n",
       "      <td>0.000</td>\n",
       "      <td>0.000000e+00</td>\n",
       "      <td>0.0</td>\n",
       "    </tr>\n",
       "  </tbody>\n",
       "</table>\n",
       "</div>"
      ],
      "text/plain": [
       "    TIME     LOAD    PGRID  PEXPORT  CHARGE  DISCH      PV           DEG   SOE\n",
       "0    0.0   61.077   51.077      0.0     0.0   10.0   0.000  0.000000e+00  10.0\n",
       "1    1.0   64.231   74.231      0.0    10.0    0.0   0.000  0.000000e+00   0.0\n",
       "2    2.0   64.612   74.612      0.0    10.0    0.0   0.000  0.000000e+00  10.0\n",
       "3    3.0   67.146   57.146      0.0     0.0   10.0   0.000  0.000000e+00  20.0\n",
       "4    4.0   66.027   76.027      0.0    10.0    0.0   0.000  0.000000e+00  10.0\n",
       "5    5.0   71.290   81.290      0.0    10.0    0.0   0.000  0.000000e+00  20.0\n",
       "6    6.0   88.297   98.297      0.0    10.0    0.0   0.000  0.000000e+00  30.0\n",
       "7    7.0  100.229   90.123      0.0     0.0   10.0   0.106  0.000000e+00  40.0\n",
       "8    8.0   99.979  102.055      0.0    10.0    0.0   7.924  0.000000e+00  30.0\n",
       "9    9.0  101.697   72.380      0.0     0.0   10.0  19.317  0.000000e+00  40.0\n",
       "10  10.0  105.989    0.000      0.0     0.0   10.0  29.399  6.659000e+01  30.0\n",
       "11  11.0  118.934    0.000      0.0     0.0   10.0  44.717  6.421700e+01  20.0\n",
       "12  12.0  124.290    0.000      0.0     0.0   10.0  47.049  6.724100e+01  10.0\n",
       "13  13.0  121.083   84.054      0.0    10.0    0.0  47.029  0.000000e+00   0.0\n",
       "14  14.0  129.931   75.212      0.0     0.0   10.0  44.719  0.000000e+00  10.0\n",
       "15  15.0  119.354   91.894      0.0    10.0    0.0  37.460  0.000000e+00   0.0\n",
       "16  16.0  124.034  113.668      0.0    10.0    0.0  20.366  0.000000e+00  10.0\n",
       "17  17.0  125.466  107.126      0.0     0.0   10.0   8.340  0.000000e+00  20.0\n",
       "18  18.0  126.020  115.754      0.0     0.0   10.0   0.266  0.000000e+00  10.0\n",
       "19  19.0  125.546  135.546      0.0    10.0    0.0   0.000  1.421085e-14   0.0\n",
       "20  20.0  132.675  122.675      0.0     0.0   10.0   0.000  0.000000e+00  10.0\n",
       "21  21.0  126.564  136.564      0.0    10.0    0.0   0.000  0.000000e+00   0.0\n",
       "22  22.0  126.309  116.309      0.0     0.0   10.0   0.000  0.000000e+00  10.0\n",
       "23  23.0  122.349  122.349      0.0     0.0    0.0   0.000  0.000000e+00   0.0"
      ]
     },
     "execution_count": 15,
     "metadata": {},
     "output_type": "execute_result"
    }
   ],
   "source": [
    "print(\"Total cost =\", m.cost(), \".\")\n",
    "cols = ['TIME',\n",
    "        'LOAD',\n",
    "        'PGRID',\n",
    "        'PEXPORT',\n",
    "        'CHARGE',\n",
    "        'DISCH',\n",
    "        'PV',     \n",
    "        'DEG',\n",
    "        'SOE']\n",
    "\n",
    "df = pd.DataFrame(columns=cols)\n",
    "for t in times:\n",
    "    df = df.append({\n",
    "        'TIME': t,\n",
    "        'LOAD': L[t],\n",
    "        'PGRID': pyomo.value(m.Pgrid[t]),\n",
    "        'PEXPORT': pyomo.value(m.Pexport[t]),\n",
    "        'CHARGE': pyomo.value(m.pch[t]),\n",
    "        'DISCH': pyomo.value(m.pdch[t]),\n",
    "        'PV': S[t],\n",
    "        'DEG': pyomo.value(m.deg[t]),\n",
    "        'SOE': pyomo.value(m.soe[t])\n",
    "    },ignore_index=True)\n",
    "df"
   ]
  },
  {
   "cell_type": "code",
   "execution_count": 16,
   "metadata": {
    "ExecuteTime": {
     "end_time": "2021-11-26T07:45:58.478806Z",
     "start_time": "2021-11-26T07:45:57.326197Z"
    }
   },
   "outputs": [],
   "source": [
    "df.to_excel('scenario1.xlsx')"
   ]
  },
  {
   "cell_type": "code",
   "execution_count": null,
   "metadata": {},
   "outputs": [],
   "source": []
  }
 ],
 "metadata": {
  "@webio": {
   "lastCommId": null,
   "lastKernelId": null
  },
  "kernelspec": {
   "display_name": "Python 3 (ipykernel)",
   "language": "python",
   "name": "python3"
  },
  "language_info": {
   "codemirror_mode": {
    "name": "ipython",
    "version": 3
   },
   "file_extension": ".py",
   "mimetype": "text/x-python",
   "name": "python",
   "nbconvert_exporter": "python",
   "pygments_lexer": "ipython3",
   "version": "3.8.12"
  },
  "toc": {
   "base_numbering": 1,
   "nav_menu": {},
   "number_sections": true,
   "sideBar": true,
   "skip_h1_title": false,
   "title_cell": "Table of Contents",
   "title_sidebar": "Contents",
   "toc_cell": false,
   "toc_position": {},
   "toc_section_display": true,
   "toc_window_display": false
  }
 },
 "nbformat": 4,
 "nbformat_minor": 4
}
